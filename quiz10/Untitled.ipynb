{
 "cells": [
  {
   "cell_type": "code",
   "execution_count": 6,
   "metadata": {},
   "outputs": [
    {
     "name": "stdout",
     "output_type": "stream",
     "text": [
      "Enter 2 nonnegative integers, the second one no greater than 100: 0 10\n",
      "The heap that has been generated is: \n",
      "[None, 97, 61, 65, 49, 51, 53, 62, 5, 38, 33]\n",
      "The preferred ordering of data to generate this heap by successsive insertion is:\n",
      "finish permutation\n",
      "[5, 53, 61, 33, 62, 65, 97, 38, 49, 51]\n"
     ]
    }
   ],
   "source": [
    "# Randomly generates N distinct integers with N provided by the user,\n",
    "# inserts all these elements into a priority queue, and outputs a list\n",
    "# L consisting of all those N integers, determined in such a way that:\n",
    "# - inserting the members of L from those of smallest index of those of\n",
    "#   largest index results in the same priority queue;\n",
    "# - L is preferred in the sense that the last element inserted is as large as\n",
    "#   possible, and then the penultimate element inserted is as large as possible, etc.\n",
    "#\n",
    "#   [27, 12, 24]\n",
    "#   [12, 24, 27]\n",
    "#\n",
    "# Written by *** and Eric Martin for COMP9021\n",
    "\n",
    "\n",
    "import sys\n",
    "from random import seed, sample\n",
    "\n",
    "from priority_queue_adt import *\n",
    "from itertools import permutations\n",
    "\n",
    "# Possibly define some functions\n",
    "\n",
    "def preferred_sequence():\n",
    "    all_possible_sequences = []\n",
    "    for t in permutations(L):\n",
    "        all_possible_sequences.append(t)\n",
    "    all_possible_sequences.sort()\n",
    "    print('finish permutation')\n",
    "    for preferred_sequence in all_possible_sequences:\n",
    "        pq_generated_by_preferred_sequence = PriorityQueue()\n",
    "        for e in preferred_sequence:\n",
    "            pq_generated_by_preferred_sequence.insert(e)\n",
    "        if pq_generated_by_preferred_sequence._data == pq._data:\n",
    "            return list(preferred_sequence)\n",
    "\n",
    "    # Replace pass above with your code (altogether, aim for around 24 lines of code)\n",
    "\n",
    "\n",
    "try:\n",
    "    for_seed, length = [int(x) for x in input('Enter 2 nonnegative integers, the second one '\n",
    "                                                                             'no greater than 100: '\n",
    "                                             ).split()\n",
    "                       ]\n",
    "    if for_seed < 0 or length > 100:\n",
    "        raise ValueError\n",
    "except ValueError:\n",
    "    print('Incorrect input (not all integers), giving up.')\n",
    "    sys.exit()\n",
    "seed(for_seed)\n",
    "L = sample(list(range(length * 10)), length)\n",
    "# print('L = ', L)\n",
    "pq = PriorityQueue()\n",
    "for e in L:\n",
    "    pq.insert(e)\n",
    "print('The heap that has been generated is: ')\n",
    "print(pq._data[ : len(pq) + 1])\n",
    "print('The preferred ordering of data to generate this heap by successsive insertion is:')\n",
    "print(preferred_sequence())\n",
    "\n"
   ]
  },
  {
   "cell_type": "code",
   "execution_count": null,
   "metadata": {},
   "outputs": [],
   "source": []
  }
 ],
 "metadata": {
  "kernelspec": {
   "display_name": "Python 3",
   "language": "python",
   "name": "python3"
  },
  "language_info": {
   "codemirror_mode": {
    "name": "ipython",
    "version": 3
   },
   "file_extension": ".py",
   "mimetype": "text/x-python",
   "name": "python",
   "nbconvert_exporter": "python",
   "pygments_lexer": "ipython3",
   "version": "3.5.2"
  }
 },
 "nbformat": 4,
 "nbformat_minor": 2
}
