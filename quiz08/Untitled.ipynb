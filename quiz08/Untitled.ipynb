{
 "cells": [
  {
   "cell_type": "code",
   "execution_count": 1,
   "metadata": {},
   "outputs": [
    {
     "ename": "SyntaxError",
     "evalue": "invalid syntax (<ipython-input-1-d19ce8ab0f26>, line 41)",
     "output_type": "error",
     "traceback": [
      "\u001b[0;36m  File \u001b[0;32m\"<ipython-input-1-d19ce8ab0f26>\"\u001b[0;36m, line \u001b[0;32m41\u001b[0m\n\u001b[0;31m    print(f'There is no way to get a sum of {target} starting from ({x}, {y})')\u001b[0m\n\u001b[0m                                                                             ^\u001b[0m\n\u001b[0;31mSyntaxError\u001b[0m\u001b[0;31m:\u001b[0m invalid syntax\n"
     ]
    }
   ],
   "source": [
    "# Randomly fills a grid of size 10 x 10 with digits between 0\n",
    "# and bound - 1, with bound provided by the user.\n",
    "# Given a point P of coordinates (x, y) and an integer \"target\"\n",
    "# also all provided by the user, finds a path starting from P,\n",
    "# moving either horizontally or vertically, in either direction,\n",
    "# so that the numbers in the visited cells add up to \"target\".\n",
    "# The grid is explored in a depth-first manner, first trying to move north,\n",
    "# always trying to keep the current direction,\n",
    "# and if that does not work turning in a clockwise manner.\n",
    "#\n",
    "# Written by Eric Martin for COMP9021\n",
    "\n",
    "\n",
    "import sys\n",
    "from random import seed, randrange\n",
    "\n",
    "from stack_adt import *\n",
    "\n",
    "\n",
    "def display_grid():\n",
    "    for i in range(len(grid)):\n",
    "        print('   ', ' '.join(str(grid[i][j]) for j in range(len(grid[0]))))\n",
    "\n",
    "def explore_depth_first(x, y, target):\n",
    "    pass\n",
    "\n",
    "\n",
    "try:\n",
    "    for_seed, bound, x, y, target = [int(x) for x in input('Enter five integers: ').split()]\n",
    "    if bound < 1 or x not in range(10) or y not in range(10) or target < 0:\n",
    "        raise ValueError\n",
    "except ValueError:\n",
    "    print('Incorrect input, giving up.')\n",
    "    sys.exit()\n",
    "seed(for_seed)\n",
    "grid = [[randrange(bound) for _ in range(10)] for _ in range(10)]\n",
    "print('Here is the grid that has been generated:')\n",
    "display_grid()\n",
    "path = explore_depth_first(x, y, target)\n",
    "if not path:\n",
    "    print(f'There is no way to get a sum of {target} starting from ({x}, {y})')\n",
    "else:\n",
    "    print('With North as initial direction, and exploring the space clockwise,')\n",
    "    print(f'the path yielding a sum of {target} starting from ({x}, {y}) is:')\n",
    "    print(path)\n"
   ]
  },
  {
   "cell_type": "code",
   "execution_count": 3,
   "metadata": {},
   "outputs": [
    {
     "ename": "SyntaxError",
     "evalue": "invalid syntax (<ipython-input-3-2d24a55043cf>, line 42)",
     "output_type": "error",
     "traceback": [
      "\u001b[0;36m  File \u001b[0;32m\"<ipython-input-3-2d24a55043cf>\"\u001b[0;36m, line \u001b[0;32m42\u001b[0m\n\u001b[0;31m    print(f'There is no way to get a sum of {target} starting from ({x}, {y})')\u001b[0m\n\u001b[0m                                                                             ^\u001b[0m\n\u001b[0;31mSyntaxError\u001b[0m\u001b[0;31m:\u001b[0m invalid syntax\n"
     ]
    }
   ],
   "source": [
    "# Randomly fills a grid of size 10 x 10 with digits between 0\n",
    "# and bound - 1, with bound provided by the user.\n",
    "# Given a point P of coordinates (x, y) and an integer \"target\"\n",
    "# also all provided by the user, finds a path starting from P,\n",
    "# moving either horizontally or vertically, in either direction,\n",
    "# so that the numbers in the visited cells add up to \"target\".\n",
    "# The grid is explored in a depth-first manner, first trying to move north,\n",
    "# always trying to keep the current direction,\n",
    "# and if that does not work turning in a clockwise manner.\n",
    "#\n",
    "# Written by Eric Martin for COMP9021\n",
    "\n",
    "\n",
    "import sys\n",
    "from random import seed, randrange\n",
    "\n",
    "from stack_adt import *\n",
    "\n",
    "\n",
    "def display_grid():\n",
    "    for i in range(len(grid)):\n",
    "        print('   ', ' '.join(str(grid[i][j]) for j in range(len(grid[0]))))\n",
    "\n",
    "def explore_depth_first(x, y, target):\n",
    "    pass\n",
    "    # Replace pass above with your code\n",
    "\n",
    "\n",
    "try:\n",
    "    for_seed, bound, x, y, target = [int(x) for x in input('Enter five integers: ').split()]\n",
    "    if bound < 1 or x not in range(10) or y not in range(10) or target < 0:\n",
    "        raise ValueError\n",
    "except ValueError:\n",
    "    print('Incorrect input, giving up.')\n",
    "    sys.exit()\n",
    "seed(for_seed)\n",
    "grid = [[randrange(bound) for _ in range(10)] for _ in range(10)]\n",
    "print('Here is the grid that has been generated:')\n",
    "display_grid()\n",
    "path = explore_depth_first(x, y, target)\n",
    "if not path:\n",
    "    print(f'There is no way to get a sum of {target} starting from ({x}, {y})')\n",
    "else:\n",
    "    print('With North as initial direction, and exploring the space clockwise,')\n",
    "    print(f'the path yielding a sum of {target} starting from ({x}, {y}) is:')\n",
    "    print(path)"
   ]
  },
  {
   "cell_type": "code",
   "execution_count": null,
   "metadata": {},
   "outputs": [],
   "source": []
  }
 ],
 "metadata": {
  "kernelspec": {
   "display_name": "Python 3",
   "language": "python",
   "name": "python3"
  },
  "language_info": {
   "codemirror_mode": {
    "name": "ipython",
    "version": 3
   },
   "file_extension": ".py",
   "mimetype": "text/x-python",
   "name": "python",
   "nbconvert_exporter": "python",
   "pygments_lexer": "ipython3",
   "version": "3.5.3"
  }
 },
 "nbformat": 4,
 "nbformat_minor": 2
}
